{
 "cells": [
  {
   "cell_type": "code",
   "execution_count": 25,
   "metadata": {
    "collapsed": true
   },
   "outputs": [],
   "source": [
    "import requests\n",
    "import pandas as pd\n",
    "import csv\n",
    "import nltk"
   ]
  },
  {
   "cell_type": "code",
   "execution_count": 26,
   "metadata": {
    "collapsed": true
   },
   "outputs": [],
   "source": [
    "url = 'https://www.washingtonpost.com/news/the-fix/wp/2016/09/26/the-first-trump-clinton-presidential-debate-transcript-annotated/'"
   ]
  },
  {
   "cell_type": "code",
   "execution_count": 27,
   "metadata": {
    "collapsed": false
   },
   "outputs": [],
   "source": [
    "# Import the data\n",
    "debate=pd.read_csv('/Users/carol/personal-notebooks/debate.csv')"
   ]
  },
  {
   "cell_type": "code",
   "execution_count": 28,
   "metadata": {
    "collapsed": false
   },
   "outputs": [
    {
     "name": "stdout",
     "output_type": "stream",
     "text": [
      "Number of rows:  351\n"
     ]
    },
    {
     "data": {
      "text/html": [
       "<div>\n",
       "<table border=\"1\" class=\"dataframe\">\n",
       "  <thead>\n",
       "    <tr style=\"text-align: right;\">\n",
       "      <th></th>\n",
       "      <th>Line</th>\n",
       "      <th>Speaker</th>\n",
       "      <th>Text</th>\n",
       "      <th>Date</th>\n",
       "    </tr>\n",
       "  </thead>\n",
       "  <tbody>\n",
       "    <tr>\n",
       "      <th>0</th>\n",
       "      <td>1</td>\n",
       "      <td>Holt</td>\n",
       "      <td>Good evening from Hofstra University in Hempst...</td>\n",
       "      <td>2016-09-26</td>\n",
       "    </tr>\n",
       "    <tr>\n",
       "      <th>1</th>\n",
       "      <td>2</td>\n",
       "      <td>Audience</td>\n",
       "      <td>(APPLAUSE)</td>\n",
       "      <td>2016-09-26</td>\n",
       "    </tr>\n",
       "    <tr>\n",
       "      <th>2</th>\n",
       "      <td>3</td>\n",
       "      <td>Clinton</td>\n",
       "      <td>How are you, Donald?</td>\n",
       "      <td>2016-09-26</td>\n",
       "    </tr>\n",
       "    <tr>\n",
       "      <th>3</th>\n",
       "      <td>4</td>\n",
       "      <td>Audience</td>\n",
       "      <td>(APPLAUSE)</td>\n",
       "      <td>2016-09-26</td>\n",
       "    </tr>\n",
       "    <tr>\n",
       "      <th>4</th>\n",
       "      <td>5</td>\n",
       "      <td>Holt</td>\n",
       "      <td>Good luck to you.</td>\n",
       "      <td>2016-09-26</td>\n",
       "    </tr>\n",
       "  </tbody>\n",
       "</table>\n",
       "</div>"
      ],
      "text/plain": [
       "   Line   Speaker                                               Text  \\\n",
       "0     1      Holt  Good evening from Hofstra University in Hempst...   \n",
       "1     2  Audience                                         (APPLAUSE)   \n",
       "2     3   Clinton                               How are you, Donald?   \n",
       "3     4  Audience                                         (APPLAUSE)   \n",
       "4     5      Holt                                  Good luck to you.   \n",
       "\n",
       "         Date  \n",
       "0  2016-09-26  \n",
       "1  2016-09-26  \n",
       "2  2016-09-26  \n",
       "3  2016-09-26  \n",
       "4  2016-09-26  "
      ]
     },
     "execution_count": 28,
     "metadata": {},
     "output_type": "execute_result"
    }
   ],
   "source": [
    "# Print overview\n",
    "print(\"Number of rows: \",debate.shape[0])\n",
    "debate.head()"
   ]
  },
  {
   "cell_type": "code",
   "execution_count": 29,
   "metadata": {
    "collapsed": false
   },
   "outputs": [
    {
     "name": "stdout",
     "output_type": "stream",
     "text": [
      "     Line   Speaker                                               Text  \\\n",
      "0       1      Holt  Good evening from Hofstra University in Hempst...   \n",
      "1       2  Audience                                         (APPLAUSE)   \n",
      "2       3   Clinton                               How are you, Donald?   \n",
      "3       4  Audience                                         (APPLAUSE)   \n",
      "4       5      Holt                                  Good luck to you.   \n",
      "5       6  Audience                                         (APPLAUSE)   \n",
      "6       7      Holt  Well, I don't expect us to cover all the issue...   \n",
      "7       8   Clinton  Well, thank you, Lester, and thanks to Hofstra...   \n",
      "8       9   Clinton  I also want to see more companies do profit-sh...   \n",
      "9      10      Holt  Secretary Clinton, thank you. Mr. Trump, the s...   \n",
      "10     11     Trump  Thank you, Lester. Our jobs are fleeing the co...   \n",
      "11     12     Trump  We cannot let it happen. Under my plan, I'll b...   \n",
      "12     13      Holt      Secretary Clinton, would you like to respond?   \n",
      "13     14   Clinton  Well, I think that trade is an important issue...   \n",
      "14     15      Holt  Let me follow up with Mr. Trump, if you can. Y...   \n",
      "15     16     Trump  Well, for one thing -- and before we start on ...   \n",
      "16     17      Holt             Let me interrupt just a moment, but...   \n",
      "17     18     Trump  Secretary Clinton and others, politicians, sho...   \n",
      "18     19      Holt  Back to the question, though. How do you bring...   \n",
      "19     20     Trump  Well, the first thing you do is don't let the ...   \n",
      "20     21      Holt          Let me let Secretary Clinton get in here.   \n",
      "21     22   Clinton  Well, let's stop for a second and remember whe...   \n",
      "22     23     Trump                That's called business, by the way.   \n",
      "23     24   Clinton  Nine million people -- nine million people los...   \n",
      "24     25     Trump           I did not. I did not. I do not say that.   \n",
      "25     26   Clinton                           I think science is real.   \n",
      "26     27     Trump                                 I do not say that.   \n",
      "27     28   Clinton  And I think it's important that we grip this a...   \n",
      "28     29      Holt                                         Mr. Trump?   \n",
      "29     30     Trump  She talks about solar panels. We invested in a...   \n",
      "..    ...       ...                                                ...   \n",
      "321   322  Audience                                         (APPLAUSE)   \n",
      "322   323   Clinton                Well, one thing. One thing, Lester.   \n",
      "323   324      Holt  Very quickly, because we're at the final quest...   \n",
      "324   325   Clinton  You know, he tried to switch from looks to sta...   \n",
      "325   326     Trump                                 I never said that.   \n",
      "326   327   Clinton  .... women don't deserve equal pay unless they...   \n",
      "327   328     Trump                                 I didn't say that.   \n",
      "328   329   Clinton  And one of the worst things he said was about ...   \n",
      "329   330     Trump  Where did you find this? Where did you find this?   \n",
      "330   331   Clinton                        Her name is Alicia Machado.   \n",
      "331   332     Trump                           Where did you find this?   \n",
      "332   333   Clinton  And she has become a U.S. citizen, and you can...   \n",
      "333   334     Trump                               Oh, really? CLINTON:   \n",
      "334   335     Trump                  OK, good. Let me just tell you...   \n",
      "335   336  Audience                                         (APPLAUSE)   \n",
      "336   337      Holt  Mr. Trump, could we just take 10 seconds and t...   \n",
      "337   338     Trump  You know, Hillary is hitting me with tremendou...   \n",
      "338   339      Holt                               Please very quickly.   \n",
      "339   340     Trump  ... extremely rough to Hillary, to her family,...   \n",
      "340   341      Holt          We have to move on to the final question.   \n",
      "341   342     Trump  ... $200 million is spent, and I'm either winn...   \n",
      "342   343  Audience                                         (APPLAUSE)   \n",
      "343   344      Holt  One of you will not win this election. So my f...   \n",
      "344   345   Clinton  Well, I support our democracy. And sometimes y...   \n",
      "345   346      Holt  Mr. Trump, very quickly, same question. Will y...   \n",
      "346   347     Trump  The other day, we were deporting 800 people. A...   \n",
      "347   348      Holt       Will you accept the outcome of the election?   \n",
      "348   349     Trump  Look, here's the story. I want to make America...   \n",
      "349   350  Audience                                         (APPLAUSE)   \n",
      "350   351      Holt  All right. Well, that is going to do it for us...   \n",
      "\n",
      "           Date  \n",
      "0    2016-09-26  \n",
      "1    2016-09-26  \n",
      "2    2016-09-26  \n",
      "3    2016-09-26  \n",
      "4    2016-09-26  \n",
      "5    2016-09-26  \n",
      "6    2016-09-26  \n",
      "7    2016-09-26  \n",
      "8    2016-09-26  \n",
      "9    2016-09-26  \n",
      "10   2016-09-26  \n",
      "11   2016-09-26  \n",
      "12   2016-09-26  \n",
      "13   2016-09-26  \n",
      "14   2016-09-26  \n",
      "15   2016-09-26  \n",
      "16   2016-09-26  \n",
      "17   2016-09-26  \n",
      "18   2016-09-26  \n",
      "19   2016-09-26  \n",
      "20   2016-09-26  \n",
      "21   2016-09-26  \n",
      "22   2016-09-26  \n",
      "23   2016-09-26  \n",
      "24   2016-09-26  \n",
      "25   2016-09-26  \n",
      "26   2016-09-26  \n",
      "27   2016-09-26  \n",
      "28   2016-09-26  \n",
      "29   2016-09-26  \n",
      "..          ...  \n",
      "321  2016-09-26  \n",
      "322  2016-09-26  \n",
      "323  2016-09-26  \n",
      "324  2016-09-26  \n",
      "325  2016-09-26  \n",
      "326  2016-09-26  \n",
      "327  2016-09-26  \n",
      "328  2016-09-26  \n",
      "329  2016-09-26  \n",
      "330  2016-09-26  \n",
      "331  2016-09-26  \n",
      "332  2016-09-26  \n",
      "333  2016-09-26  \n",
      "334  2016-09-26  \n",
      "335  2016-09-26  \n",
      "336  2016-09-26  \n",
      "337  2016-09-26  \n",
      "338  2016-09-26  \n",
      "339  2016-09-26  \n",
      "340  2016-09-26  \n",
      "341  2016-09-26  \n",
      "342  2016-09-26  \n",
      "343  2016-09-26  \n",
      "344  2016-09-26  \n",
      "345  2016-09-26  \n",
      "346  2016-09-26  \n",
      "347  2016-09-26  \n",
      "348  2016-09-26  \n",
      "349  2016-09-26  \n",
      "350  2016-09-26  \n",
      "\n",
      "[351 rows x 4 columns]\n"
     ]
    }
   ],
   "source": [
    "print(debate)"
   ]
  },
  {
   "cell_type": "code",
   "execution_count": 32,
   "metadata": {
    "collapsed": false,
    "scrolled": true
   },
   "outputs": [
    {
     "data": {
      "text/html": [
       "<div>\n",
       "<table border=\"1\" class=\"dataframe\">\n",
       "  <thead>\n",
       "    <tr style=\"text-align: right;\">\n",
       "      <th></th>\n",
       "      <th>Line</th>\n",
       "      <th>Speaker</th>\n",
       "      <th>Text</th>\n",
       "      <th>Date</th>\n",
       "    </tr>\n",
       "  </thead>\n",
       "  <tbody>\n",
       "    <tr>\n",
       "      <th>346</th>\n",
       "      <td>347</td>\n",
       "      <td>Trump</td>\n",
       "      <td>The other day, we were deporting 800 people. A...</td>\n",
       "      <td>2016-09-26</td>\n",
       "    </tr>\n",
       "    <tr>\n",
       "      <th>347</th>\n",
       "      <td>348</td>\n",
       "      <td>Holt</td>\n",
       "      <td>Will you accept the outcome of the election?</td>\n",
       "      <td>2016-09-26</td>\n",
       "    </tr>\n",
       "    <tr>\n",
       "      <th>348</th>\n",
       "      <td>349</td>\n",
       "      <td>Trump</td>\n",
       "      <td>Look, here's the story. I want to make America...</td>\n",
       "      <td>2016-09-26</td>\n",
       "    </tr>\n",
       "    <tr>\n",
       "      <th>349</th>\n",
       "      <td>350</td>\n",
       "      <td>Audience</td>\n",
       "      <td>(APPLAUSE)</td>\n",
       "      <td>2016-09-26</td>\n",
       "    </tr>\n",
       "    <tr>\n",
       "      <th>350</th>\n",
       "      <td>351</td>\n",
       "      <td>Holt</td>\n",
       "      <td>All right. Well, that is going to do it for us...</td>\n",
       "      <td>2016-09-26</td>\n",
       "    </tr>\n",
       "  </tbody>\n",
       "</table>\n",
       "</div>"
      ],
      "text/plain": [
       "     Line   Speaker                                               Text  \\\n",
       "346   347     Trump  The other day, we were deporting 800 people. A...   \n",
       "347   348      Holt       Will you accept the outcome of the election?   \n",
       "348   349     Trump  Look, here's the story. I want to make America...   \n",
       "349   350  Audience                                         (APPLAUSE)   \n",
       "350   351      Holt  All right. Well, that is going to do it for us...   \n",
       "\n",
       "           Date  \n",
       "346  2016-09-26  \n",
       "347  2016-09-26  \n",
       "348  2016-09-26  \n",
       "349  2016-09-26  \n",
       "350  2016-09-26  "
      ]
     },
     "execution_count": 32,
     "metadata": {},
     "output_type": "execute_result"
    }
   ],
   "source": [
    "debate.tail()"
   ]
  },
  {
   "cell_type": "code",
   "execution_count": 37,
   "metadata": {
    "collapsed": false
   },
   "outputs": [
    {
     "data": {
      "text/plain": [
       "RangeIndex(start=0, stop=351, step=1)"
      ]
     },
     "execution_count": 37,
     "metadata": {},
     "output_type": "execute_result"
    }
   ],
   "source": [
    "debate.index"
   ]
  },
  {
   "cell_type": "code",
   "execution_count": 38,
   "metadata": {
    "collapsed": false
   },
   "outputs": [
    {
     "data": {
      "text/plain": [
       "Index(['Line', 'Speaker', 'Text', 'Date'], dtype='object')"
      ]
     },
     "execution_count": 38,
     "metadata": {},
     "output_type": "execute_result"
    }
   ],
   "source": [
    "debate.columns"
   ]
  },
  {
   "cell_type": "code",
   "execution_count": 39,
   "metadata": {
    "collapsed": false
   },
   "outputs": [
    {
     "data": {
      "text/plain": [
       "array([[1, 'Holt',\n",
       "        'Good evening from Hofstra University in Hempstead, New York. I\\'m Lester Holt, anchor of \"NBC Nightly News.\" I want to welcome you to the first presidential debate. The participants tonight are Donald Trump and Hillary Clinton. This debate is sponsored by the Commission on Presidential Debates, a nonpartisan, nonprofit organization. The commission drafted tonight\\'s format, and the rules have been agreed to by the campaigns. The 90-minute debate is divided into six segments, each 15 minutes long. We\\'ll explore three topic areas tonight: Achieving prosperity; America\\'s direction; and securing America. At the start of each segment, I will ask the same lead-off question to both candidates, and they will each have up to two minutes to respond. From that point until the end of the segment, we\\'ll have an open discussion. The questions are mine and have not been shared with the commission or the campaigns. The audience here in the room has agreed to remain silent so that we can focus on what the candidates are saying. I will invite you to applaud, however, at this moment, as we welcome the candidates: Democratic nominee for president of the United States, Hillary Clinton, and Republican nominee for president of the United States, Donald J. Trump.',\n",
       "        '2016-09-26'],\n",
       "       [2, 'Audience', '(APPLAUSE)', '2016-09-26'],\n",
       "       [3, 'Clinton', 'How are you, Donald?', '2016-09-26'],\n",
       "       ..., \n",
       "       [349, 'Trump',\n",
       "        \"Look, here's the story. I want to make America great again. I'm going to be able to do it. I don't believe Hillary will. The answer is, if she wins, I will absolutely support her.\",\n",
       "        '2016-09-26'],\n",
       "       [350, 'Audience', '(APPLAUSE)', '2016-09-26'],\n",
       "       [351, 'Holt',\n",
       "        'All right. Well, that is going to do it for us. That concludes our debate for this evening, a spirit one. We covered a lot of ground, not everything as I suspected we would. The next presidential debates are scheduled for October 9th at Washington University in St. Louis and October 19th at the University of Nevada Las Vegas. The conversation will continue. A reminder. The vice presidential debate is scheduled for October 4th at Longwood University in Farmville, Virginia. My thanks to Hillary Clinton and to Donald Trump and to Hofstra University for hosting us tonight. Good night, everyone.',\n",
       "        '2016-09-26']], dtype=object)"
      ]
     },
     "execution_count": 39,
     "metadata": {},
     "output_type": "execute_result"
    }
   ],
   "source": [
    "debate.values"
   ]
  },
  {
   "cell_type": "code",
   "execution_count": 41,
   "metadata": {
    "collapsed": false
   },
   "outputs": [
    {
     "data": {
      "text/html": [
       "<div>\n",
       "<table border=\"1\" class=\"dataframe\">\n",
       "  <thead>\n",
       "    <tr style=\"text-align: right;\">\n",
       "      <th></th>\n",
       "      <th>Line</th>\n",
       "    </tr>\n",
       "  </thead>\n",
       "  <tbody>\n",
       "    <tr>\n",
       "      <th>count</th>\n",
       "      <td>351.000000</td>\n",
       "    </tr>\n",
       "    <tr>\n",
       "      <th>mean</th>\n",
       "      <td>176.000000</td>\n",
       "    </tr>\n",
       "    <tr>\n",
       "      <th>std</th>\n",
       "      <td>101.469207</td>\n",
       "    </tr>\n",
       "    <tr>\n",
       "      <th>min</th>\n",
       "      <td>1.000000</td>\n",
       "    </tr>\n",
       "    <tr>\n",
       "      <th>25%</th>\n",
       "      <td>88.500000</td>\n",
       "    </tr>\n",
       "    <tr>\n",
       "      <th>50%</th>\n",
       "      <td>176.000000</td>\n",
       "    </tr>\n",
       "    <tr>\n",
       "      <th>75%</th>\n",
       "      <td>263.500000</td>\n",
       "    </tr>\n",
       "    <tr>\n",
       "      <th>max</th>\n",
       "      <td>351.000000</td>\n",
       "    </tr>\n",
       "  </tbody>\n",
       "</table>\n",
       "</div>"
      ],
      "text/plain": [
       "             Line\n",
       "count  351.000000\n",
       "mean   176.000000\n",
       "std    101.469207\n",
       "min      1.000000\n",
       "25%     88.500000\n",
       "50%    176.000000\n",
       "75%    263.500000\n",
       "max    351.000000"
      ]
     },
     "execution_count": 41,
     "metadata": {},
     "output_type": "execute_result"
    }
   ],
   "source": [
    "debate.describe()"
   ]
  },
  {
   "cell_type": "code",
   "execution_count": null,
   "metadata": {
    "collapsed": true
   },
   "outputs": [],
   "source": []
  }
 ],
 "metadata": {
  "anaconda-cloud": {},
  "kernelspec": {
   "display_name": "Python [default]",
   "language": "python",
   "name": "python3"
  },
  "language_info": {
   "codemirror_mode": {
    "name": "ipython",
    "version": 3
   },
   "file_extension": ".py",
   "mimetype": "text/x-python",
   "name": "python",
   "nbconvert_exporter": "python",
   "pygments_lexer": "ipython3",
   "version": "3.5.2"
  }
 },
 "nbformat": 4,
 "nbformat_minor": 1
}
